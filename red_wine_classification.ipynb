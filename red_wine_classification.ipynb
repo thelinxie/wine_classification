{
  "nbformat": 4,
  "nbformat_minor": 0,
  "metadata": {
    "colab": {
      "name": "red_wine_classification.ipynb",
      "provenance": [],
      "collapsed_sections": []
    },
    "kernelspec": {
      "name": "python3",
      "display_name": "Python 3"
    },
    "language_info": {
      "name": "python"
    }
  },
  "cells": [
    {
      "cell_type": "markdown",
      "metadata": {
        "id": "jtujEKutakZn"
      },
      "source": [
        "## **Introduction 项目介绍**\n",
        "As a wine enthusiast, I am curious to find out what attributes ultimately make a good wine. Here I am using data from [UCI Machine Learning Repository](https://archive.ics.uci.edu/ml/datasets/wine+quality) to try to predict wine quality based on its score ranging from 0-10. The attributes in the dataset include:\n",
        "*   fixed acidity 固定酸度\n",
        "*   volatile acidity 波动酸度\n",
        "*   citric acid 柠檬酸\n",
        "*   residual sugar 残糖\n",
        "*   chlorides 氯化物\n",
        "*  free sulfur dioxide 自由的二氧化硫？\n",
        "*  total sulfur dioxide 总二氧化硫\n",
        "*  density 浓度\n",
        "*  pH 酸碱度\n",
        "*  sulphates 硫酸盐\n",
        "*  \talcohol 酒精浓度\n",
        "\n",
        "作为一个葡萄酒爱好者，我想透过这个来自于UCI的数据集，了解哪些因素是会影响一瓶酒的质量评分的。\n",
        "\n",
        "Methods that I used in this project were: （会用到的模块有以下3个）\n",
        "*   Exploratory Data Analysis (EDA) 探索性数据分析\n",
        "*   Decision Tree 决策树\n",
        "*   Random Forest 随机森林"
      ]
    },
    {
      "cell_type": "code",
      "metadata": {
        "id": "b2uWM2y5IFr3"
      },
      "source": [
        "## Exploratory Data Analysis 探索性数据分析\n",
        "##### Import libraries 录入模块\n",
        "import pandas as pd\n",
        "import numpy as np\n",
        "import matplotlib.pyplot as plt\n",
        "import seaborn as sns\n",
        "sns.set(style='darkgrid')\n",
        "from scipy import stats\n",
        "%matplotlib inline"
      ],
      "execution_count": 9,
      "outputs": []
    },
    {
      "cell_type": "code",
      "metadata": {
        "id": "zw0cpHU5LJYc"
      },
      "source": [
        "#### Read the data 录入数据\n",
        "wine = pd.read_csv(r'/content/winequality-red.csv')"
      ],
      "execution_count": 4,
      "outputs": []
    },
    {
      "cell_type": "code",
      "metadata": {
        "colab": {
          "base_uri": "https://localhost:8080/",
          "height": 220
        },
        "id": "xOh2ySY1LerM",
        "outputId": "2f82601e-4cde-4194-f4d8-b7d832cf4229"
      },
      "source": [
        "#### Understand the data 观察数据表\n",
        "print(wine.shape)\n",
        "wine.head()"
      ],
      "execution_count": 5,
      "outputs": [
        {
          "output_type": "stream",
          "text": [
            "(1599, 12)\n"
          ],
          "name": "stdout"
        },
        {
          "output_type": "execute_result",
          "data": {
            "text/html": [
              "<div>\n",
              "<style scoped>\n",
              "    .dataframe tbody tr th:only-of-type {\n",
              "        vertical-align: middle;\n",
              "    }\n",
              "\n",
              "    .dataframe tbody tr th {\n",
              "        vertical-align: top;\n",
              "    }\n",
              "\n",
              "    .dataframe thead th {\n",
              "        text-align: right;\n",
              "    }\n",
              "</style>\n",
              "<table border=\"1\" class=\"dataframe\">\n",
              "  <thead>\n",
              "    <tr style=\"text-align: right;\">\n",
              "      <th></th>\n",
              "      <th>fixed acidity</th>\n",
              "      <th>volatile acidity</th>\n",
              "      <th>citric acid</th>\n",
              "      <th>residual sugar</th>\n",
              "      <th>chlorides</th>\n",
              "      <th>free sulfur dioxide</th>\n",
              "      <th>total sulfur dioxide</th>\n",
              "      <th>density</th>\n",
              "      <th>pH</th>\n",
              "      <th>sulphates</th>\n",
              "      <th>alcohol</th>\n",
              "      <th>quality</th>\n",
              "    </tr>\n",
              "  </thead>\n",
              "  <tbody>\n",
              "    <tr>\n",
              "      <th>0</th>\n",
              "      <td>7.4</td>\n",
              "      <td>0.70</td>\n",
              "      <td>0.00</td>\n",
              "      <td>1.9</td>\n",
              "      <td>0.076</td>\n",
              "      <td>11.0</td>\n",
              "      <td>34.0</td>\n",
              "      <td>0.9978</td>\n",
              "      <td>3.51</td>\n",
              "      <td>0.56</td>\n",
              "      <td>9.4</td>\n",
              "      <td>5</td>\n",
              "    </tr>\n",
              "    <tr>\n",
              "      <th>1</th>\n",
              "      <td>7.8</td>\n",
              "      <td>0.88</td>\n",
              "      <td>0.00</td>\n",
              "      <td>2.6</td>\n",
              "      <td>0.098</td>\n",
              "      <td>25.0</td>\n",
              "      <td>67.0</td>\n",
              "      <td>0.9968</td>\n",
              "      <td>3.20</td>\n",
              "      <td>0.68</td>\n",
              "      <td>9.8</td>\n",
              "      <td>5</td>\n",
              "    </tr>\n",
              "    <tr>\n",
              "      <th>2</th>\n",
              "      <td>7.8</td>\n",
              "      <td>0.76</td>\n",
              "      <td>0.04</td>\n",
              "      <td>2.3</td>\n",
              "      <td>0.092</td>\n",
              "      <td>15.0</td>\n",
              "      <td>54.0</td>\n",
              "      <td>0.9970</td>\n",
              "      <td>3.26</td>\n",
              "      <td>0.65</td>\n",
              "      <td>9.8</td>\n",
              "      <td>5</td>\n",
              "    </tr>\n",
              "    <tr>\n",
              "      <th>3</th>\n",
              "      <td>11.2</td>\n",
              "      <td>0.28</td>\n",
              "      <td>0.56</td>\n",
              "      <td>1.9</td>\n",
              "      <td>0.075</td>\n",
              "      <td>17.0</td>\n",
              "      <td>60.0</td>\n",
              "      <td>0.9980</td>\n",
              "      <td>3.16</td>\n",
              "      <td>0.58</td>\n",
              "      <td>9.8</td>\n",
              "      <td>6</td>\n",
              "    </tr>\n",
              "    <tr>\n",
              "      <th>4</th>\n",
              "      <td>7.4</td>\n",
              "      <td>0.70</td>\n",
              "      <td>0.00</td>\n",
              "      <td>1.9</td>\n",
              "      <td>0.076</td>\n",
              "      <td>11.0</td>\n",
              "      <td>34.0</td>\n",
              "      <td>0.9978</td>\n",
              "      <td>3.51</td>\n",
              "      <td>0.56</td>\n",
              "      <td>9.4</td>\n",
              "      <td>5</td>\n",
              "    </tr>\n",
              "  </tbody>\n",
              "</table>\n",
              "</div>"
            ],
            "text/plain": [
              "   fixed acidity  volatile acidity  citric acid  ...  sulphates  alcohol  quality\n",
              "0            7.4              0.70         0.00  ...       0.56      9.4        5\n",
              "1            7.8              0.88         0.00  ...       0.68      9.8        5\n",
              "2            7.8              0.76         0.04  ...       0.65      9.8        5\n",
              "3           11.2              0.28         0.56  ...       0.58      9.8        6\n",
              "4            7.4              0.70         0.00  ...       0.56      9.4        5\n",
              "\n",
              "[5 rows x 12 columns]"
            ]
          },
          "metadata": {
            "tags": []
          },
          "execution_count": 5
        }
      ]
    },
    {
      "cell_type": "code",
      "metadata": {
        "colab": {
          "base_uri": "https://localhost:8080/",
          "height": 314
        },
        "id": "bI6m8499ODsA",
        "outputId": "d00fd41c-9ca3-4fe6-dac0-8709c05aff33"
      },
      "source": [
        "#### descriptive statistics 描述统计学\n",
        "wine.describe()"
      ],
      "execution_count": null,
      "outputs": [
        {
          "output_type": "execute_result",
          "data": {
            "text/html": [
              "<div>\n",
              "<style scoped>\n",
              "    .dataframe tbody tr th:only-of-type {\n",
              "        vertical-align: middle;\n",
              "    }\n",
              "\n",
              "    .dataframe tbody tr th {\n",
              "        vertical-align: top;\n",
              "    }\n",
              "\n",
              "    .dataframe thead th {\n",
              "        text-align: right;\n",
              "    }\n",
              "</style>\n",
              "<table border=\"1\" class=\"dataframe\">\n",
              "  <thead>\n",
              "    <tr style=\"text-align: right;\">\n",
              "      <th></th>\n",
              "      <th>fixed acidity</th>\n",
              "      <th>volatile acidity</th>\n",
              "      <th>citric acid</th>\n",
              "      <th>residual sugar</th>\n",
              "      <th>chlorides</th>\n",
              "      <th>free sulfur dioxide</th>\n",
              "      <th>total sulfur dioxide</th>\n",
              "      <th>density</th>\n",
              "      <th>pH</th>\n",
              "      <th>sulphates</th>\n",
              "      <th>alcohol</th>\n",
              "      <th>quality</th>\n",
              "    </tr>\n",
              "  </thead>\n",
              "  <tbody>\n",
              "    <tr>\n",
              "      <th>count</th>\n",
              "      <td>1599.000000</td>\n",
              "      <td>1599.000000</td>\n",
              "      <td>1599.000000</td>\n",
              "      <td>1599.000000</td>\n",
              "      <td>1599.000000</td>\n",
              "      <td>1599.000000</td>\n",
              "      <td>1599.000000</td>\n",
              "      <td>1599.000000</td>\n",
              "      <td>1599.000000</td>\n",
              "      <td>1599.000000</td>\n",
              "      <td>1599.000000</td>\n",
              "      <td>1599.000000</td>\n",
              "    </tr>\n",
              "    <tr>\n",
              "      <th>mean</th>\n",
              "      <td>8.319637</td>\n",
              "      <td>0.527821</td>\n",
              "      <td>0.270976</td>\n",
              "      <td>2.538806</td>\n",
              "      <td>0.087467</td>\n",
              "      <td>15.874922</td>\n",
              "      <td>46.467792</td>\n",
              "      <td>0.996747</td>\n",
              "      <td>3.311113</td>\n",
              "      <td>0.658149</td>\n",
              "      <td>10.422983</td>\n",
              "      <td>5.636023</td>\n",
              "    </tr>\n",
              "    <tr>\n",
              "      <th>std</th>\n",
              "      <td>1.741096</td>\n",
              "      <td>0.179060</td>\n",
              "      <td>0.194801</td>\n",
              "      <td>1.409928</td>\n",
              "      <td>0.047065</td>\n",
              "      <td>10.460157</td>\n",
              "      <td>32.895324</td>\n",
              "      <td>0.001887</td>\n",
              "      <td>0.154386</td>\n",
              "      <td>0.169507</td>\n",
              "      <td>1.065668</td>\n",
              "      <td>0.807569</td>\n",
              "    </tr>\n",
              "    <tr>\n",
              "      <th>min</th>\n",
              "      <td>4.600000</td>\n",
              "      <td>0.120000</td>\n",
              "      <td>0.000000</td>\n",
              "      <td>0.900000</td>\n",
              "      <td>0.012000</td>\n",
              "      <td>1.000000</td>\n",
              "      <td>6.000000</td>\n",
              "      <td>0.990070</td>\n",
              "      <td>2.740000</td>\n",
              "      <td>0.330000</td>\n",
              "      <td>8.400000</td>\n",
              "      <td>3.000000</td>\n",
              "    </tr>\n",
              "    <tr>\n",
              "      <th>25%</th>\n",
              "      <td>7.100000</td>\n",
              "      <td>0.390000</td>\n",
              "      <td>0.090000</td>\n",
              "      <td>1.900000</td>\n",
              "      <td>0.070000</td>\n",
              "      <td>7.000000</td>\n",
              "      <td>22.000000</td>\n",
              "      <td>0.995600</td>\n",
              "      <td>3.210000</td>\n",
              "      <td>0.550000</td>\n",
              "      <td>9.500000</td>\n",
              "      <td>5.000000</td>\n",
              "    </tr>\n",
              "    <tr>\n",
              "      <th>50%</th>\n",
              "      <td>7.900000</td>\n",
              "      <td>0.520000</td>\n",
              "      <td>0.260000</td>\n",
              "      <td>2.200000</td>\n",
              "      <td>0.079000</td>\n",
              "      <td>14.000000</td>\n",
              "      <td>38.000000</td>\n",
              "      <td>0.996750</td>\n",
              "      <td>3.310000</td>\n",
              "      <td>0.620000</td>\n",
              "      <td>10.200000</td>\n",
              "      <td>6.000000</td>\n",
              "    </tr>\n",
              "    <tr>\n",
              "      <th>75%</th>\n",
              "      <td>9.200000</td>\n",
              "      <td>0.640000</td>\n",
              "      <td>0.420000</td>\n",
              "      <td>2.600000</td>\n",
              "      <td>0.090000</td>\n",
              "      <td>21.000000</td>\n",
              "      <td>62.000000</td>\n",
              "      <td>0.997835</td>\n",
              "      <td>3.400000</td>\n",
              "      <td>0.730000</td>\n",
              "      <td>11.100000</td>\n",
              "      <td>6.000000</td>\n",
              "    </tr>\n",
              "    <tr>\n",
              "      <th>max</th>\n",
              "      <td>15.900000</td>\n",
              "      <td>1.580000</td>\n",
              "      <td>1.000000</td>\n",
              "      <td>15.500000</td>\n",
              "      <td>0.611000</td>\n",
              "      <td>72.000000</td>\n",
              "      <td>289.000000</td>\n",
              "      <td>1.003690</td>\n",
              "      <td>4.010000</td>\n",
              "      <td>2.000000</td>\n",
              "      <td>14.900000</td>\n",
              "      <td>8.000000</td>\n",
              "    </tr>\n",
              "  </tbody>\n",
              "</table>\n",
              "</div>"
            ],
            "text/plain": [
              "       fixed acidity  volatile acidity  ...      alcohol      quality\n",
              "count    1599.000000       1599.000000  ...  1599.000000  1599.000000\n",
              "mean        8.319637          0.527821  ...    10.422983     5.636023\n",
              "std         1.741096          0.179060  ...     1.065668     0.807569\n",
              "min         4.600000          0.120000  ...     8.400000     3.000000\n",
              "25%         7.100000          0.390000  ...     9.500000     5.000000\n",
              "50%         7.900000          0.520000  ...    10.200000     6.000000\n",
              "75%         9.200000          0.640000  ...    11.100000     6.000000\n",
              "max        15.900000          1.580000  ...    14.900000     8.000000\n",
              "\n",
              "[8 rows x 12 columns]"
            ]
          },
          "metadata": {
            "tags": []
          },
          "execution_count": 34
        }
      ]
    },
    {
      "cell_type": "markdown",
      "metadata": {
        "id": "rRuA_MAaoH_E"
      },
      "source": [
        "What caught my eye was the potential outliers from the column 'residual sugar'. The descriptive statistics showed that 75% of the data are less than 2.6, while the maximum displayed 15.5. Hence, I investigated further by plotting a boxplot to identify the outliers.\n",
        "\n",
        "值得注意的是residual sugar这一列的数据分布。在75%的数据都在2.8以下，但最高值却达到15.5.因此我用boxplot细看它的数据分布来看是否有异常值。"
      ]
    },
    {
      "cell_type": "code",
      "metadata": {
        "colab": {
          "base_uri": "https://localhost:8080/",
          "height": 357
        },
        "id": "Ql65TrrwOeqk",
        "outputId": "561966f3-3ac3-4307-c5b6-4e691e86bdd1"
      },
      "source": [
        "sns.boxplot(wine['residual sugar'])"
      ],
      "execution_count": 10,
      "outputs": [
        {
          "output_type": "stream",
          "text": [
            "/usr/local/lib/python3.7/dist-packages/seaborn/_decorators.py:43: FutureWarning: Pass the following variable as a keyword arg: x. From version 0.12, the only valid positional argument will be `data`, and passing other arguments without an explicit keyword will result in an error or misinterpretation.\n",
            "  FutureWarning\n"
          ],
          "name": "stderr"
        },
        {
          "output_type": "execute_result",
          "data": {
            "text/plain": [
              "<matplotlib.axes._subplots.AxesSubplot at 0x7f9d73e2e410>"
            ]
          },
          "metadata": {
            "tags": []
          },
          "execution_count": 10
        },
        {
          "output_type": "display_data",
          "data": {
            "image/png": "[encoded data removed]",
            "text/plain": [
              "<Figure size 432x288 with 1 Axes>"
            ]
          },
          "metadata": {
            "tags": [],
            "needs_background": "light"
          }
        }
      ]
    },
    {
      "cell_type": "markdown",
      "metadata": {
        "id": "98mvQzdsqCGe"
      },
      "source": [
        "Z-score is often used to identify outliers in a dataset. Normally data should lie within the z-score of +/- 3 range, so I applied this logic to eliminate the outliers, which left 1451 observations.\n",
        "\n",
        "z-score通常会用来判定一个值是否偏离了均值成为异常。大部分数据应该都是不超过(+/-3)的范围，因此我取出z-score小于3的数据来排除异常值, 数据从1599排除后剩1451."
      ]
    },
    {
      "cell_type": "code",
      "metadata": {
        "colab": {
          "base_uri": "https://localhost:8080/"
        },
        "id": "NiIV8_rxVCp0",
        "outputId": "2d28990c-710a-4c04-fe3c-f3f5f3001918"
      },
      "source": [
        "z = np.abs(stats.zscore(wine))\n",
        "wine = wine[(z < 3).all(axis=1)]\n",
        "wine.shape"
      ],
      "execution_count": 7,
      "outputs": [
        {
          "output_type": "execute_result",
          "data": {
            "text/plain": [
              "(1451, 12)"
            ]
          },
          "metadata": {
            "tags": []
          },
          "execution_count": 7
        }
      ]
    },
    {
      "cell_type": "code",
      "metadata": {
        "id": "Obwa3r82NdJT"
      },
      "source": [
        "### relationship among variables 观察变量"
      ],
      "execution_count": null,
      "outputs": []
    },
    {
      "cell_type": "code",
      "metadata": {
        "colab": {
          "base_uri": "https://localhost:8080/",
          "height": 386
        },
        "id": "uhEE39S_V_ew",
        "outputId": "ca4b82bc-fc43-4659-86ff-01a683382e0b"
      },
      "source": [
        "sns.displot(data=wine, x='quality', kind='hist', bins=5)"
      ],
      "execution_count": 16,
      "outputs": [
        {
          "output_type": "execute_result",
          "data": {
            "text/plain": [
              "<seaborn.axisgrid.FacetGrid at 0x7f9d65d909d0>"
            ]
          },
          "metadata": {
            "tags": []
          },
          "execution_count": 16
        },
        {
          "output_type": "display_data",
          "data": {
            "image/png": "[encoded data removed]",
            "text/plain": [
              "<Figure size 360x360 with 1 Axes>"
            ]
          },
          "metadata": {
            "tags": [],
            "needs_background": "light"
          }
        }
      ]
    },
    {
      "cell_type": "markdown",
      "metadata": {
        "id": "G3MFdlD1tT4m"
      },
      "source": [
        "We can see that most of the wines here from the dataset are within 5 and 6, which we can label that 7 and beyond should be top of the quality, or an 'excellent' wine as our classification.\n",
        "\n",
        "从‘quality’的分布来看，大部分的酒都在5和6分的区间。作为分类算法的项目，我们可以设7分或以上的酒为‘excellent’，优秀的品质。\n"
      ]
    },
    {
      "cell_type": "code",
      "metadata": {
        "colab": {
          "base_uri": "https://localhost:8080/",
          "height": 546
        },
        "id": "9lMObemgN2oB",
        "outputId": "879f265a-2139-4652-f3a3-459b700e7e6b"
      },
      "source": [
        "### Corelation 相关性\n",
        "corr = wine.corr()\n",
        "plt.subplots(figsize=(10,7))\n",
        "sns.heatmap(corr, xticklabels=corr.columns, yticklabels=corr.columns, annot=True)"
      ],
      "execution_count": 17,
      "outputs": [
        {
          "output_type": "execute_result",
          "data": {
            "text/plain": [
              "<matplotlib.axes._subplots.AxesSubplot at 0x7f9d65d69b90>"
            ]
          },
          "metadata": {
            "tags": []
          },
          "execution_count": 17
        },
        {
          "output_type": "display_data",
          "data": {
            "image/png": "[encoded data removed]",
            "text/plain": [
              "<Figure size 720x504 with 2 Axes>"
            ]
          },
          "metadata": {
            "tags": [],
            "needs_background": "light"
          }
        }
      ]
    },
    {
      "cell_type": "markdown",
      "metadata": {
        "id": "27hgckEELXPw"
      },
      "source": [
        "Looking at the heatmap, we can identify some variables such as alcohol, volatile acidity, and sulphates with moderate correlation to 'quality', which are helpful to be featured in our classification model later.\n",
        "\n",
        "从相关性的热图中可以发现，其中酒精含量，波动酸度和硫酸盐表现出对酒质量的影响力。之后我们可以把这些因素作为我们分类算法模型的因变量。"
      ]
    },
    {
      "cell_type": "code",
      "metadata": {
        "id": "LGlzp9kqWeag"
      },
      "source": [
        "# Create Classification variable for the target 制定分类标签\n",
        "wine['excellent'] = [1 if x >= 7 else 0 for x in wine['quality']]\n",
        "# Separate feature variables and target variable\n",
        "X = wine.drop(['quality','excellent'], axis = 1)\n",
        "y = wine['excellent']"
      ],
      "execution_count": 19,
      "outputs": []
    },
    {
      "cell_type": "code",
      "metadata": {
        "colab": {
          "base_uri": "https://localhost:8080/"
        },
        "id": "_OsKLNYxY1Cz",
        "outputId": "a7ce10d2-420e-4cda-fc83-6563ab9f50c6"
      },
      "source": [
        "# Check the counts under each class 查询各标签的数据量\n",
        "wine['excellent'].value_counts()"
      ],
      "execution_count": 20,
      "outputs": [
        {
          "output_type": "execute_result",
          "data": {
            "text/plain": [
              "0    1250\n",
              "1     201\n",
              "Name: excellent, dtype: int64"
            ]
          },
          "metadata": {
            "tags": []
          },
          "execution_count": 20
        }
      ]
    },
    {
      "cell_type": "markdown",
      "metadata": {
        "id": "x-AkvVLJZDiH"
      },
      "source": [
        "## **Pre-modeling 模型的准备工作**\n",
        "\n",
        "#### Standardizing Feature Variables 标准化变量\n",
        "\n",
        "Standardizing the data will help equalize the range of the data by getting the distribution mean of 0 and standard deviation of 1.\n",
        "\n",
        "标准化使其分布的平均值为 0，标准差为 1, 使变量的数据范围更小一些。\n"
      ]
    },
    {
      "cell_type": "code",
      "metadata": {
        "id": "NpZ5gnIlZmnv"
      },
      "source": [
        "# normalize feature variables\n",
        "from sklearn.preprocessing import StandardScaler\n",
        "X_features = X\n",
        "X = StandardScaler().fit_transform(X)"
      ],
      "execution_count": 21,
      "outputs": []
    },
    {
      "cell_type": "code",
      "metadata": {
        "id": "IQYxPAZWZ1AS"
      },
      "source": [
        "# Splitting the data\n",
        "from sklearn.model_selection import train_test_split\n",
        "X_train, X_test, y_train, y_test = train_test_split(X, y, test_size=.25, random_state=0)"
      ],
      "execution_count": 22,
      "outputs": []
    },
    {
      "cell_type": "markdown",
      "metadata": {
        "id": "llQZ8z92aFry"
      },
      "source": [
        "### **Modelling 测试模型**\n",
        "#### Decision Trees 决策树\n",
        "Decision trees are a popular supervised model for classification and regression that are often used in risk management and operation strategy. Decision trees are easy to build and to intepret but less accurate when it comes to prediction.\n",
        "\n",
        "决策树是一种常用的监督学习的分类方法，常用于运筹学和风险管理当中。决策树相对计算量简单和容易解释，但容易过拟合。"
      ]
    },
    {
      "cell_type": "code",
      "metadata": {
        "colab": {
          "base_uri": "https://localhost:8080/"
        },
        "id": "dP8P4iNBad_0",
        "outputId": "3e7cb87c-4720-4f80-86f4-a8e799a45d11"
      },
      "source": [
        "from sklearn.metrics import classification_report\n",
        "from sklearn.tree import DecisionTreeClassifier\n",
        "\n",
        "tree_model= DecisionTreeClassifier(random_state=1)\n",
        "tree_model.fit (X_train,y_train)\n",
        "tree_pred= tree_model.predict(X_test)\n",
        "\n",
        "print(classification_report(y_test, tree_pred))"
      ],
      "execution_count": 24,
      "outputs": [
        {
          "output_type": "stream",
          "text": [
            "              precision    recall  f1-score   support\n",
            "\n",
            "           0       0.91      0.93      0.92       309\n",
            "           1       0.55      0.50      0.52        54\n",
            "\n",
            "    accuracy                           0.87       363\n",
            "   macro avg       0.73      0.71      0.72       363\n",
            "weighted avg       0.86      0.87      0.86       363\n",
            "\n"
          ],
          "name": "stdout"
        }
      ]
    },
    {
      "cell_type": "markdown",
      "metadata": {
        "id": "DWMJHv3fdFKQ"
      },
      "source": [
        "### Random Forest 随机森林\n",
        "\n",
        "Random forest is an ensemble learning method that uses multiple decision trees and make a prediction based on the majority of what the trees predict.\n",
        "\n",
        "随机森林在机器学习中是一个利用多个决策树对样本进行训练并预测的一个模型。"
      ]
    },
    {
      "cell_type": "code",
      "metadata": {
        "colab": {
          "base_uri": "https://localhost:8080/"
        },
        "id": "4W_r9E0zdPsK",
        "outputId": "2631dd45-aa6a-4bfc-9771-ead22e0a298c"
      },
      "source": [
        "from sklearn.ensemble import RandomForestClassifier\n",
        "forest_model = RandomForestClassifier(random_state=1)\n",
        "forest_model.fit(X_train, y_train)\n",
        "forest_pred = forest_model.predict(X_test)\n",
        "print(classification_report(y_test, forest_pred))"
      ],
      "execution_count": null,
      "outputs": [
        {
          "output_type": "stream",
          "text": [
            "              precision    recall  f1-score   support\n",
            "\n",
            "           0       0.93      0.97      0.95       309\n",
            "           1       0.75      0.56      0.64        54\n",
            "\n",
            "    accuracy                           0.91       363\n",
            "   macro avg       0.84      0.76      0.79       363\n",
            "weighted avg       0.90      0.91      0.90       363\n",
            "\n"
          ],
          "name": "stdout"
        }
      ]
    },
    {
      "cell_type": "markdown",
      "metadata": {
        "id": "DME5Q5U-VOHS"
      },
      "source": [
        "Random Forest showed better performance in terms of recall and precision. One of the reason causing the less-accurate results for both models could be the imbalanced data, where a large sample size of data distributed in class 0.\n",
        "\n",
        "这个模型从recall和 precision上都比决策树更高一些。这两个模型缺乏准确性的原因之一应该是数据的不平衡性（0的数据占多）。不过基于这两个模型，我们还是选择随机森林作为我们的模型。"
      ]
    },
    {
      "cell_type": "markdown",
      "metadata": {
        "id": "_tJkicV5duMY"
      },
      "source": [
        "## **Conclusion 总结**\n",
        "\n",
        "In this project, I used EDA to identify 3 correlated variables to predict the quality of a wine, and built Decision Tree and Random Forest model to  predict the quality of a wine. Due to the imbalance of the classes, we still need to seek for better model even though the precision of Random Forest is higher. Perhaps I will do a part-2 of this project with other models to find the best model for future use.\n",
        "\n",
        "在这个项目中，我对这份数据做了探索性分析找到3个与红酒质量高相关的因素，并搭建决策树和随机森林两个模型来预测红酒的质量。虽然随机森林的结果比决策树稍好，但鉴于该模型对‘excellent’酒预判的代表性和准确性偏低（可能由于本身数据在0和1分类中的不平衡），因此最后的结论是寻找更好的模型。或许之后会出一个part2来寻找一个更好的预测模型。\n",
        "\n"
      ]
    }
  ]
}